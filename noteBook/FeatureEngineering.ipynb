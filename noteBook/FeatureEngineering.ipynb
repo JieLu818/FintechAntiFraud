{
 "cells": [
  {
   "cell_type": "markdown",
   "metadata": {},
   "source": [
    "#  Feature Engineering"
   ]
  },
  {
   "cell_type": "code",
   "execution_count": 17,
   "metadata": {},
   "outputs": [],
   "source": [
    "import sys\n",
    "import os\n",
    "module_path = os.path.abspath(os.path.join('..'))\n",
    "if module_path not in sys.path:\n",
    "    sys.path.append(module_path)"
   ]
  },
  {
   "cell_type": "code",
   "execution_count": 18,
   "metadata": {},
   "outputs": [],
   "source": [
    "from data import AntiFraudData\n",
    "from gradientDescent import *\n",
    "from confusionMetrics import *\n",
    "import matplotlib.pyplot as plt\n",
    "from featureProcess import *\n",
    "from sklearn import model_selection\n",
    "from sklearn.metrics import roc_curve, auc\n",
    "from sklearn.model_selection import cross_val_score\n",
    "from scipy import interp"
   ]
  },
  {
   "cell_type": "markdown",
   "metadata": {},
   "source": [
    "### load data, split into training and testing dataset"
   ]
  },
  {
   "cell_type": "code",
   "execution_count": 50,
   "metadata": {},
   "outputs": [],
   "source": [
    "data_path = 'D:\\\\Codes\\\\Python\\\\FraudDetectProject\\\\data\\\\anti_fraud_data.csv'\n",
    "raw_data = AntiFraudData(data_path)._raw\n",
    "train_data, test_data = model_selection.train_test_split(raw_data, test_size=0.3)"
   ]
  },
  {
   "cell_type": "markdown",
   "metadata": {},
   "source": [
    "### check overall fraud percentage"
   ]
  },
  {
   "cell_type": "code",
   "execution_count": 51,
   "metadata": {},
   "outputs": [
    {
     "name": "stdout",
     "output_type": "stream",
     "text": [
      "overall fraud rate is 1.1282%\n"
     ]
    }
   ],
   "source": [
    "print('overall fraud rate is {0:2.4f}%'.format(train_data['flag'].mean()*100))"
   ]
  },
  {
   "cell_type": "code",
   "execution_count": 52,
   "metadata": {},
   "outputs": [
    {
     "name": "stdout",
     "output_type": "stream",
     "text": [
      "Constant columns: ['ip_desc_danger']\n"
     ]
    }
   ],
   "source": [
    "feature_process = BasicFeatureProcess()\n",
    "# check constant variable\n",
    "fixed_cols = feature_process.fix_value_check(train_data)\n",
    "if fixed_cols:\n",
    "    print('Constant columns:', fixed_cols)\n",
    "    train_data = train_data.drop(fixed_cols, axis=1).copy()\n",
    "else:\n",
    "    print('No constant columns')"
   ]
  },
  {
   "cell_type": "markdown",
   "metadata": {},
   "source": [
    "### check features' missing percentage\n"
   ]
  },
  {
   "cell_type": "markdown",
   "metadata": {},
   "source": [
    " age ==0 indicates a missing value"
   ]
  },
  {
   "cell_type": "code",
   "execution_count": 53,
   "metadata": {},
   "outputs": [
    {
     "data": {
      "text/plain": [
       "Text(0.5, 1.0, 'Columns Missing Rate')"
      ]
     },
     "execution_count": 53,
     "metadata": {},
     "output_type": "execute_result"
    },
    {
     "data": {
      "image/png": "[encoded data removed]",
      "text/plain": [
       "<Figure size 432x288 with 1 Axes>"
      ]
     },
     "metadata": {
      "needs_background": "light"
     },
     "output_type": "display_data"
    }
   ],
   "source": [
    "train_data.loc[train_data.age==0, 'age'] = np.nan\n",
    "missing_rate_df = feature_process.missing_value_pct(train_data)\n",
    "plt.bar(x=range(missing_rate_df.shape[0]), height=missing_rate_df['missing_rate'])\n",
    "plt.title('Columns Missing Rate')"
   ]
  },
  {
   "cell_type": "code",
   "execution_count": 54,
   "metadata": {},
   "outputs": [],
   "source": [
    "columns_with_missing = missing_rate_df.index[missing_rate_df.missing_rate>0].tolist()"
   ]
  },
  {
   "cell_type": "markdown",
   "metadata": {},
   "source": [
    "### add missing indicator"
   ]
  },
  {
   "cell_type": "code",
   "execution_count": 56,
   "metadata": {},
   "outputs": [],
   "source": [
    "train_data = feature_process.add_missing_indicator_to_df(data=train_data, cols=columns_with_missing)"
   ]
  },
  {
   "cell_type": "code",
   "execution_count": 57,
   "metadata": {},
   "outputs": [],
   "source": [
    "missing_odds_ratio = feature_process.missing_odds_ratio(train_data, cols=columns_with_missing, flag_col='flag')"
   ]
  },
  {
   "cell_type": "code",
   "execution_count": 58,
   "metadata": {},
   "outputs": [
    {
     "data": {
      "text/plain": [
       "Text(0.5, 1.0, 'missing value odds ratio')"
      ]
     },
     "execution_count": 58,
     "metadata": {},
     "output_type": "execute_result"
    },
    {
     "data": {
      "image/png": "[encoded data removed]",
      "text/plain": [
       "<Figure size 432x288 with 1 Axes>"
      ]
     },
     "metadata": {
      "needs_background": "light"
     },
     "output_type": "display_data"
    }
   ],
   "source": [
    "plt.bar(x=range(missing_odds_ratio.shape[0]), height=missing_odds_ratio.odds_ratio)\n",
    "plt.title('missing value odds ratio')"
   ]
  },
  {
   "cell_type": "markdown",
   "metadata": {},
   "source": [
    "### categorical feature"
   ]
  },
  {
   "cell_type": "code",
   "execution_count": 59,
   "metadata": {
    "scrolled": true
   },
   "outputs": [
    {
     "data": {
      "text/plain": [
       "['registered_channels', 'area11_danger', 'area6_danger']"
      ]
     },
     "execution_count": 59,
     "metadata": {},
     "output_type": "execute_result"
    }
   ],
   "source": [
    "obj_types = feature_process.feature_type_identifier(train_data, 'O')\n",
    "obj_types"
   ]
  },
  {
   "cell_type": "code",
   "execution_count": 60,
   "metadata": {},
   "outputs": [],
   "source": [
    "data_counts = train_data.nunique() \n",
    "categorical_cols = data_counts.index[data_counts<=10].tolist()\n",
    "categorical_cols = list(set(categorical_cols+obj_types) - set(['flag']))"
   ]
  },
  {
   "cell_type": "markdown",
   "metadata": {},
   "source": [
    " for categorical feature with missing value encode with dummy variable and delete original ferature"
   ]
  },
  {
   "cell_type": "code",
   "execution_count": 61,
   "metadata": {},
   "outputs": [],
   "source": [
    "categoriacal_cols_with_missing = list(set(columns_with_missing) & set(categorical_cols))"
   ]
  },
  {
   "cell_type": "code",
   "execution_count": 62,
   "metadata": {},
   "outputs": [],
   "source": [
    "dummy_result = feature_process.get_categorical_dummy_variable(train_data, categorical_cols)\n",
    "train_data = dummy_result['data']\n",
    "dummy_columns = dummy_result['dummy_cols']"
   ]
  },
  {
   "cell_type": "markdown",
   "metadata": {},
   "source": [
    "continous variable fill missing value as 0, and using missing indicator "
   ]
  },
  {
   "cell_type": "code",
   "execution_count": 63,
   "metadata": {},
   "outputs": [],
   "source": [
    "continues_col_with_missing = list(set(columns_with_missing)-set(categoriacal_cols_with_missing))\n",
    "train_data[continues_col_with_missing] = train_data[continues_col_with_missing].fillna(0)"
   ]
  },
  {
   "cell_type": "markdown",
   "metadata": {},
   "source": [
    "### feature derivative"
   ]
  },
  {
   "cell_type": "markdown",
   "metadata": {},
   "source": [
    "average payment during periods"
   ]
  },
  {
   "cell_type": "code",
   "execution_count": 64,
   "metadata": {},
   "outputs": [],
   "source": [
    "feature_derive = FeatureDerivative()\n",
    "train_data = feature_derive.avg_payment_derivative(train_data)"
   ]
  },
  {
   "cell_type": "markdown",
   "metadata": {},
   "source": [
    "### outlier detection & normalization"
   ]
  },
  {
   "cell_type": "code",
   "execution_count": 65,
   "metadata": {},
   "outputs": [],
   "source": [
    "all_columns = list(train_data.columns)\n",
    "all_columns.remove('ID')\n",
    "all_columns.remove('flag')\n",
    "numerical_columns = list(set(all_columns) - set(dummy_columns) - set(categorical_cols))\n",
    "outlier_columns = get_outlier_features(train_data, numerical_columns, expand=True)"
   ]
  },
  {
   "cell_type": "code",
   "execution_count": 66,
   "metadata": {
    "scrolled": true
   },
   "outputs": [
    {
     "name": "stderr",
     "output_type": "stream",
     "text": [
      "D:\\Codes\\Python\\FraudDetectProject\\featureProcess\\FeatureStandard.py:70: RuntimeWarning: divide by zero encountered in log\n",
      "  lower_log_odds, upper_log_odds = np.log(l), np.log(u)\n"
     ]
    }
   ],
   "source": [
    "outlier_fraud_df = outlier_effect(train_data, outlier_cols=outlier_columns, flag_col='flag', expand=True)"
   ]
  },
  {
   "cell_type": "code",
   "execution_count": 67,
   "metadata": {},
   "outputs": [],
   "source": [
    "# no significant difference \n",
    "# feature standarlization\n",
    "lower, upper, mu, sigma = {}, {}, {}, {}\n",
    "for col in outlier_columns:\n",
    "    temp_df = train_data[[col,'flag']]\n",
    "    zero_score = zero_score_normalization(temp_df,col)\n",
    "    if zero_score ==1:\n",
    "        del train_data[col]\n",
    "        outlier_columns.remove(col)\n",
    "        numerical_columns.remove(col)\n",
    "        continue\n",
    "    train_data[col] = zero_score['new_var']\n",
    "    lower[col], upper[col], mu[col], sigma[col] =zero_score['lower'], zero_score['upper'], zero_score['mu'], zero_score['sigma']"
   ]
  },
  {
   "cell_type": "code",
   "execution_count": 68,
   "metadata": {},
   "outputs": [],
   "source": [
    "training_data_clean = 'D:\\\\Codes\\\\Python\\\\FraudDetectProject\\\\data\\\\training_data_clean.csv'\n",
    "train_data.to_csv(training_data_clean, index=False)"
   ]
  },
  {
   "cell_type": "markdown",
   "metadata": {},
   "source": [
    "### do the same feature Engineering for testing data"
   ]
  },
  {
   "cell_type": "code",
   "execution_count": 69,
   "metadata": {},
   "outputs": [
    {
     "name": "stdout",
     "output_type": "stream",
     "text": [
      "overall fraud rate is 1.0643%\n"
     ]
    }
   ],
   "source": [
    "print('overall fraud rate is {0:2.4f}%'.format(test_data['flag'].mean()*100))\n",
    "test_data = test_data.drop(fixed_cols, axis=1).copy()\n",
    "test_data.loc[test_data.age==0, 'age'] = np.nan"
   ]
  },
  {
   "cell_type": "code",
   "execution_count": 70,
   "metadata": {},
   "outputs": [],
   "source": [
    "test_data = feature_process.add_missing_indicator_to_df(data=test_data, cols=columns_with_missing)"
   ]
  },
  {
   "cell_type": "code",
   "execution_count": 71,
   "metadata": {},
   "outputs": [],
   "source": [
    "dummy_result = feature_process.get_categorical_dummy_variable(test_data, categorical_cols)\n",
    "test_data = dummy_result['data']\n",
    "test_data[continues_col_with_missing] = test_data[continues_col_with_missing].fillna(0)"
   ]
  },
  {
   "cell_type": "code",
   "execution_count": 72,
   "metadata": {},
   "outputs": [],
   "source": [
    "test_data = feature_derive.avg_payment_derivative(test_data)\n",
    "# outlier_columns = get_outlier_features(test_data, all_columns)\n",
    "# lower, upper, mu, sigma = {}, {}, {}, {}\n",
    "for col in outlier_columns:\n",
    "    temp_df = test_data[[col,'flag']]\n",
    "    if col not in numerical_columns:\n",
    "        del test_data[col]\n",
    "        continue\n",
    "    test_data[col] = (temp_df[col] - mu[col])/sigma[col]"
   ]
  },
  {
   "cell_type": "code",
   "execution_count": 73,
   "metadata": {},
   "outputs": [],
   "source": [
    "testing_data_clean = 'D:\\\\Codes\\\\Python\\\\FraudDetectProject\\\\data\\\\testing_data_clean.csv'\n",
    "test_data.to_csv(testing_data_clean, index=False)"
   ]
  },
  {
   "cell_type": "code",
   "execution_count": null,
   "metadata": {},
   "outputs": [],
   "source": []
  }
 ],
 "metadata": {
  "kernelspec": {
   "display_name": "Python 3",
   "language": "python",
   "name": "python3"
  },
  "language_info": {
   "codemirror_mode": {
    "name": "ipython",
    "version": 3
   },
   "file_extension": ".py",
   "mimetype": "text/x-python",
   "name": "python",
   "nbconvert_exporter": "python",
   "pygments_lexer": "ipython3",
   "version": "3.6.3"
  }
 },
 "nbformat": 4,
 "nbformat_minor": 2
}
