{
 "cells": [
  {
   "cell_type": "markdown",
   "metadata": {
    "collapsed": true
   },
   "source": [
    "# Logistic Regression"
   ]
  },
  {
   "cell_type": "code",
   "execution_count": 100,
   "metadata": {},
   "outputs": [],
   "source": [
    "from data import AntiFraudData\n",
    "from gradientDescent import *\n",
    "from confusionMetrics import *\n",
    "import matplotlib.pyplot as plt"
   ]
  },
  {
   "cell_type": "code",
   "execution_count": 42,
   "metadata": {},
   "outputs": [],
   "source": [
    "data = AntiFraudData('D:\\\\Codes\\\\Python\\\\FraudDetectProject\\\\data\\\\LRdata.csv')._raw"
   ]
  },
  {
   "cell_type": "code",
   "execution_count": 43,
   "metadata": {},
   "outputs": [],
   "source": [
    "data2 = np.matrix(data)"
   ]
  },
  {
   "cell_type": "code",
   "execution_count": 50,
   "metadata": {},
   "outputs": [],
   "source": [
    "X_raw, y = data2[:, :2], data2[:, -1]\n",
    "X = sm.add_constant(data=X_raw, has_constant=1)"
   ]
  },
  {
   "cell_type": "markdown",
   "metadata": {},
   "source": [
    "#### 结合给出的数据，运行代码，得到权重的参数估计"
   ]
  },
  {
   "cell_type": "code",
   "execution_count": 47,
   "metadata": {},
   "outputs": [
    {
     "name": "stdout",
     "output_type": "stream",
     "text": [
      "[[1]\n",
      " [1]\n",
      " [1]]\n"
     ]
    }
   ],
   "source": [
    "#设置初始值，带入BGD\n",
    "w_initial = np.matrix(np.array([1,1,1])).T\n",
    "print(w_initial)"
   ]
  },
  {
   "cell_type": "code",
   "execution_count": 51,
   "metadata": {},
   "outputs": [
    {
     "name": "stdout",
     "output_type": "stream",
     "text": [
      "[[14.73245533]\n",
      " [ 1.25224897]\n",
      " [-2.00004285]]\n"
     ]
    }
   ],
   "source": [
    "w2 = batch_gradient_descent(X, y, w_initial, maxSteps=100000)\n",
    "print(w2)"
   ]
  },
  {
   "cell_type": "markdown",
   "metadata": {},
   "source": [
    "#### 同时，用python内置逻辑回归算法求解参数，作为对比"
   ]
  },
  {
   "cell_type": "code",
   "execution_count": 72,
   "metadata": {
    "scrolled": true
   },
   "outputs": [
    {
     "name": "stdout",
     "output_type": "stream",
     "text": [
      "Optimization terminated successfully.\n",
      "         Current function value: 0.093158\n",
      "         Iterations 10\n"
     ]
    },
    {
     "data": {
      "text/html": [
       "<table class=\"simpletable\">\n",
       "<tr>\n",
       "        <td>Model:</td>              <td>Logit</td>      <td>Pseudo R-squared:</td>    <td>0.865</td>  \n",
       "</tr>\n",
       "<tr>\n",
       "  <td>Dependent Variable:</td>         <td>y</td>              <td>AIC:</td>          <td>24.6315</td> \n",
       "</tr>\n",
       "<tr>\n",
       "         <td>Date:</td>        <td>2018-12-22 23:15</td>       <td>BIC:</td>          <td>32.4470</td> \n",
       "</tr>\n",
       "<tr>\n",
       "   <td>No. Observations:</td>         <td>100</td>        <td>Log-Likelihood:</td>    <td>-9.3158</td> \n",
       "</tr>\n",
       "<tr>\n",
       "       <td>Df Model:</td>              <td>2</td>            <td>LL-Null:</td>        <td>-69.135</td> \n",
       "</tr>\n",
       "<tr>\n",
       "     <td>Df Residuals:</td>           <td>97</td>          <td>LLR p-value:</td>    <td>1.0496e-26</td>\n",
       "</tr>\n",
       "<tr>\n",
       "      <td>Converged:</td>           <td>1.0000</td>           <td>Scale:</td>         <td>1.0000</td>  \n",
       "</tr>\n",
       "<tr>\n",
       "    <td>No. Iterations:</td>        <td>10.0000</td>             <td></td>               <td></td>     \n",
       "</tr>\n",
       "</table>\n",
       "<table class=\"simpletable\">\n",
       "<tr>\n",
       "    <td></td>     <th>Coef.</th>  <th>Std.Err.</th>    <th>z</th>     <th>P>|z|</th> <th>[0.025</th>  <th>0.975]</th> \n",
       "</tr>\n",
       "<tr>\n",
       "  <th>const</th> <td>14.7521</td>  <td>4.3948</td>  <td>3.3567</td>  <td>0.0008</td> <td>6.1385</td>  <td>23.3658</td>\n",
       "</tr>\n",
       "<tr>\n",
       "  <th>x1</th>    <td>1.2536</td>   <td>0.5770</td>  <td>2.1726</td>  <td>0.0298</td> <td>0.1227</td>  <td>2.3845</td> \n",
       "</tr>\n",
       "<tr>\n",
       "  <th>x2</th>    <td>-2.0027</td>  <td>0.5924</td>  <td>-3.3805</td> <td>0.0007</td> <td>-3.1638</td> <td>-0.8416</td>\n",
       "</tr>\n",
       "</table>"
      ],
      "text/plain": [
       "<class 'statsmodels.iolib.summary2.Summary'>\n",
       "\"\"\"\n",
       "                         Results: Logit\n",
       "=================================================================\n",
       "Model:              Logit            Pseudo R-squared: 0.865     \n",
       "Dependent Variable: y                AIC:              24.6315   \n",
       "Date:               2018-12-22 23:15 BIC:              32.4470   \n",
       "No. Observations:   100              Log-Likelihood:   -9.3158   \n",
       "Df Model:           2                LL-Null:          -69.135   \n",
       "Df Residuals:       97               LLR p-value:      1.0496e-26\n",
       "Converged:          1.0000           Scale:            1.0000    \n",
       "No. Iterations:     10.0000                                      \n",
       "-------------------------------------------------------------------\n",
       "           Coef.    Std.Err.      z      P>|z|     [0.025    0.975]\n",
       "-------------------------------------------------------------------\n",
       "const     14.7521     4.3948    3.3567   0.0008    6.1385   23.3658\n",
       "x1         1.2536     0.5770    2.1726   0.0298    0.1227    2.3845\n",
       "x2        -2.0027     0.5924   -3.3805   0.0007   -3.1638   -0.8416\n",
       "=================================================================\n",
       "\n",
       "\"\"\""
      ]
     },
     "execution_count": 72,
     "metadata": {},
     "output_type": "execute_result"
    }
   ],
   "source": [
    "logit = sm.Logit(y,X)\n",
    "result = logit.fit()\n",
    "result.summary2()"
   ]
  },
  {
   "cell_type": "code",
   "execution_count": 104,
   "metadata": {},
   "outputs": [],
   "source": [
    "predict = result.predict(X)\n",
    "w3 = result.params\n",
    "prob = np.exp(X*np.matrix(w3).T) / (1 +np.exp(X*np.matrix(w3).T))"
   ]
  },
  {
   "cell_type": "markdown",
   "metadata": {},
   "source": [
    "#### 以0.5为阈值，概率大于等于该阈值的样本划分为1，否则划分为0.结合真实的标签，计算混淆矩阵，并且计算\n",
    "Accuracy\n",
    "Precision\n",
    "Recall \n",
    "Specificity"
   ]
  },
  {
   "cell_type": "code",
   "execution_count": 105,
   "metadata": {},
   "outputs": [],
   "source": [
    "data['prob'] = predict"
   ]
  },
  {
   "cell_type": "code",
   "execution_count": 106,
   "metadata": {
    "scrolled": true
   },
   "outputs": [
    {
     "data": {
      "text/html": [
       "<div>\n",
       "<style scoped>\n",
       "    .dataframe tbody tr th:only-of-type {\n",
       "        vertical-align: middle;\n",
       "    }\n",
       "\n",
       "    .dataframe tbody tr th {\n",
       "        vertical-align: top;\n",
       "    }\n",
       "\n",
       "    .dataframe thead th {\n",
       "        text-align: right;\n",
       "    }\n",
       "</style>\n",
       "<table border=\"1\" class=\"dataframe\">\n",
       "  <thead>\n",
       "    <tr style=\"text-align: right;\">\n",
       "      <th></th>\n",
       "      <th>X1</th>\n",
       "      <th>X2</th>\n",
       "      <th>Y</th>\n",
       "      <th>prob</th>\n",
       "    </tr>\n",
       "  </thead>\n",
       "  <tbody>\n",
       "    <tr>\n",
       "      <th>0</th>\n",
       "      <td>-0.017612</td>\n",
       "      <td>14.053064</td>\n",
       "      <td>0</td>\n",
       "      <td>0.000001</td>\n",
       "    </tr>\n",
       "    <tr>\n",
       "      <th>1</th>\n",
       "      <td>-1.395634</td>\n",
       "      <td>4.662541</td>\n",
       "      <td>1</td>\n",
       "      <td>0.975037</td>\n",
       "    </tr>\n",
       "    <tr>\n",
       "      <th>2</th>\n",
       "      <td>-0.752157</td>\n",
       "      <td>6.538620</td>\n",
       "      <td>0</td>\n",
       "      <td>0.671404</td>\n",
       "    </tr>\n",
       "    <tr>\n",
       "      <th>3</th>\n",
       "      <td>-1.322371</td>\n",
       "      <td>7.152853</td>\n",
       "      <td>0</td>\n",
       "      <td>0.226115</td>\n",
       "    </tr>\n",
       "    <tr>\n",
       "      <th>4</th>\n",
       "      <td>0.423363</td>\n",
       "      <td>11.054677</td>\n",
       "      <td>0</td>\n",
       "      <td>0.001052</td>\n",
       "    </tr>\n",
       "  </tbody>\n",
       "</table>\n",
       "</div>"
      ],
      "text/plain": [
       "         X1         X2  Y      prob\n",
       "0 -0.017612  14.053064  0  0.000001\n",
       "1 -1.395634   4.662541  1  0.975037\n",
       "2 -0.752157   6.538620  0  0.671404\n",
       "3 -1.322371   7.152853  0  0.226115\n",
       "4  0.423363  11.054677  0  0.001052"
      ]
     },
     "execution_count": 106,
     "metadata": {},
     "output_type": "execute_result"
    }
   ],
   "source": [
    "data.head()"
   ]
  },
  {
   "cell_type": "code",
   "execution_count": 107,
   "metadata": {},
   "outputs": [
    {
     "name": "stdout",
     "output_type": "stream",
     "text": [
      "51 3 44 2\n"
     ]
    }
   ],
   "source": [
    "TP = sum((data.Y==1)&(data.prob>=0.5))\n",
    "FP = sum((data.Y==0)&(data.prob>=0.5))\n",
    "TN = sum((data.Y==0)&(data.prob<0.5))\n",
    "FN = sum((data.Y==1)&(data.prob<0.5))\n",
    "print(TP, FP, TN, FN)"
   ]
  },
  {
   "cell_type": "code",
   "execution_count": 108,
   "metadata": {},
   "outputs": [
    {
     "data": {
      "text/plain": [
       "{'accuracy': 0.95,\n",
       " 'precision': 0.9444444444444444,\n",
       " 'recall': 0.9622641509433962,\n",
       " 'specificity': 0.9361702127659575}"
      ]
     },
     "execution_count": 108,
     "metadata": {},
     "output_type": "execute_result"
    }
   ],
   "source": [
    "get_confusion_matrix(fn=FN, fp=FP,tn=TN, tp=TP)"
   ]
  }
 ],
 "metadata": {
  "kernelspec": {
   "display_name": "Python 3",
   "language": "python",
   "name": "python3"
  },
  "language_info": {
   "codemirror_mode": {
    "name": "ipython",
    "version": 3
   },
   "file_extension": ".py",
   "mimetype": "text/x-python",
   "name": "python",
   "nbconvert_exporter": "python",
   "pygments_lexer": "ipython3",
   "version": "3.6.7"
  }
 },
 "nbformat": 4,
 "nbformat_minor": 1
}
