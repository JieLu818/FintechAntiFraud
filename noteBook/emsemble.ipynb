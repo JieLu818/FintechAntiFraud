{
 "cells": [
  {
   "cell_type": "markdown",
   "metadata": {},
   "source": [
    "# emsemble model"
   ]
  },
  {
   "cell_type": "code",
   "execution_count": 1,
   "metadata": {},
   "outputs": [],
   "source": [
    "import sys\n",
    "import os\n",
    "module_path = os.path.abspath(os.path.join('..'))\n",
    "if module_path not in sys.path:\n",
    "    sys.path.append(module_path)"
   ]
  },
  {
   "cell_type": "code",
   "execution_count": 2,
   "metadata": {},
   "outputs": [],
   "source": [
    "from data import AntiFraudData\n",
    "from gradientDescent import *\n",
    "from confusionMetrics import *\n",
    "import matplotlib.pyplot as plt\n",
    "from featureProcess import *\n",
    "from sklearn import model_selection\n",
    "from sklearn.metrics import roc_curve, auc\n",
    "from sklearn.model_selection import cross_val_score\n",
    "from scipy import interp\n",
    "from sklearn.linear_model import LogisticRegression\n",
    "from sklearn.ensemble import GradientBoostingClassifier\n",
    "from sklearn.neural_network import MLPClassifier\n",
    "from sklearn.ensemble import AdaBoostClassifier\n",
    "from random import shuffle\n",
    "from sklearn.model_selection import GridSearchCV"
   ]
  },
  {
   "cell_type": "markdown",
   "metadata": {},
   "source": [
    "# feature engineering"
   ]
  },
  {
   "cell_type": "code",
   "execution_count": 3,
   "metadata": {},
   "outputs": [],
   "source": [
    "folderOfData = 'D:\\\\Codes\\\\Python\\\\FraudDetectProject\\\\data\\\\'\n",
    "data_path = folderOfData + 'anti_fraud_data.csv'\n",
    "raw_data = AntiFraudData(data_path)._raw\n",
    "train_data, test_data = model_selection.train_test_split(raw_data, test_size=0.3)"
   ]
  },
  {
   "cell_type": "code",
   "execution_count": 4,
   "metadata": {},
   "outputs": [
    {
     "name": "stdout",
     "output_type": "stream",
     "text": [
      "overall fraud rate is 1.1708%\n"
     ]
    }
   ],
   "source": [
    "print('overall fraud rate is {0:2.4f}%'.format(train_data['flag'].mean()*100))"
   ]
  },
  {
   "cell_type": "code",
   "execution_count": 5,
   "metadata": {},
   "outputs": [
    {
     "name": "stdout",
     "output_type": "stream",
     "text": [
      "Constant columns: ['ip_desc_danger']\n"
     ]
    },
    {
     "data": {
      "text/plain": [
       "Text(0.5, 1.0, 'Columns Missing Rate')"
      ]
     },
     "execution_count": 5,
     "metadata": {},
     "output_type": "execute_result"
    },
    {
     "data": {
      "image/png": "[encoded data removed]",
      "text/plain": [
       "<Figure size 432x288 with 1 Axes>"
      ]
     },
     "metadata": {
      "needs_background": "light"
     },
     "output_type": "display_data"
    }
   ],
   "source": [
    "feature_process = BasicFeatureProcess()\n",
    "# check constant variable\n",
    "fixed_cols = feature_process.fix_value_check(train_data)\n",
    "if fixed_cols:\n",
    "    print('Constant columns:', fixed_cols)\n",
    "    train_data = train_data.drop(fixed_cols, axis=1).copy()\n",
    "else:\n",
    "    print('No constant columns')\n",
    "train_data.loc[train_data.age==0, 'age'] = np.nan\n",
    "missing_rate_df = feature_process.missing_value_pct(train_data)\n",
    "plt.bar(x=range(missing_rate_df.shape[0]), height=missing_rate_df['missing_rate'])\n",
    "plt.title('Columns Missing Rate')"
   ]
  },
  {
   "cell_type": "code",
   "execution_count": 6,
   "metadata": {},
   "outputs": [
    {
     "data": {
      "text/plain": [
       "Text(0.5, 1.0, 'missing value odds ratio')"
      ]
     },
     "execution_count": 6,
     "metadata": {},
     "output_type": "execute_result"
    },
    {
     "data": {
      "image/png": "[encoded data removed]",
      "text/plain": [
       "<Figure size 432x288 with 1 Axes>"
      ]
     },
     "metadata": {
      "needs_background": "light"
     },
     "output_type": "display_data"
    }
   ],
   "source": [
    "columns_with_missing = missing_rate_df.index[missing_rate_df.missing_rate>0].tolist()\n",
    "train_data = feature_process.add_missing_indicator_to_df(data=train_data, cols=columns_with_missing)\n",
    "missing_odds_ratio = feature_process.missing_odds_ratio(train_data, cols=columns_with_missing, flag_col='flag')\n",
    "plt.bar(x=range(missing_odds_ratio.shape[0]), height=missing_odds_ratio.odds_ratio)\n",
    "plt.title('missing value odds ratio')"
   ]
  },
  {
   "cell_type": "code",
   "execution_count": 7,
   "metadata": {},
   "outputs": [
    {
     "data": {
      "text/plain": [
       "['registered_channels', 'area11_danger', 'area6_danger']"
      ]
     },
     "execution_count": 7,
     "metadata": {},
     "output_type": "execute_result"
    }
   ],
   "source": [
    "obj_types = feature_process.feature_type_identifier(train_data, 'O')\n",
    "obj_types"
   ]
  },
  {
   "cell_type": "code",
   "execution_count": 8,
   "metadata": {},
   "outputs": [],
   "source": [
    "data_counts = train_data.nunique() \n",
    "categorical_cols = data_counts.index[data_counts<=10].tolist()\n",
    "categorical_cols = list(set(categorical_cols+obj_types) - set(['flag']))"
   ]
  },
  {
   "cell_type": "code",
   "execution_count": 9,
   "metadata": {},
   "outputs": [],
   "source": [
    "categoriacal_cols_with_missing = list(set(columns_with_missing) & set(categorical_cols))"
   ]
  },
  {
   "cell_type": "code",
   "execution_count": 10,
   "metadata": {},
   "outputs": [],
   "source": [
    "dummy_result = feature_process.get_categorical_dummy_variable(train_data, categorical_cols)\n",
    "train_data = dummy_result['data']\n",
    "dummy_columns = dummy_result['dummy_cols']"
   ]
  },
  {
   "cell_type": "code",
   "execution_count": 11,
   "metadata": {},
   "outputs": [],
   "source": [
    "continues_col_with_missing = list(set(columns_with_missing)-set(categoriacal_cols_with_missing))\n",
    "train_data[continues_col_with_missing] = train_data[continues_col_with_missing].fillna(0)"
   ]
  },
  {
   "cell_type": "code",
   "execution_count": 12,
   "metadata": {},
   "outputs": [],
   "source": [
    "feature_derive = FeatureDerivative()\n",
    "train_data = feature_derive.avg_payment_derivative(train_data)\n",
    "all_columns = list(train_data.columns)\n",
    "all_columns.remove('ID')\n",
    "all_columns.remove('flag')\n",
    "numerical_columns = list(set(all_columns) - set(dummy_columns) - set(categorical_cols))\n",
    "outlier_columns = get_outlier_features(train_data, numerical_columns, expand=True)"
   ]
  },
  {
   "cell_type": "code",
   "execution_count": 13,
   "metadata": {},
   "outputs": [
    {
     "name": "stderr",
     "output_type": "stream",
     "text": [
      "D:\\Codes\\Python\\FraudDetectProject\\featureProcess\\FeatureStandard.py:70: RuntimeWarning: divide by zero encountered in log\n",
      "  lower_log_odds, upper_log_odds = np.log(l), np.log(u)\n"
     ]
    }
   ],
   "source": [
    "outlier_fraud_df = outlier_effect(train_data, outlier_cols=outlier_columns, flag_col='flag', expand=True)"
   ]
  },
  {
   "cell_type": "code",
   "execution_count": 14,
   "metadata": {},
   "outputs": [],
   "source": [
    "# no significant difference \n",
    "# feature standarlization\n",
    "lower, upper, mu, sigma = {}, {}, {}, {}\n",
    "for col in outlier_columns:\n",
    "    temp_df = train_data[[col,'flag']]\n",
    "    zero_score = zero_score_normalization(temp_df,col)\n",
    "    if zero_score ==1:\n",
    "        del train_data[col]\n",
    "        numerical_columns.remove(col)\n",
    "        continue\n",
    "    train_data[col] = zero_score['new_var']\n",
    "    lower[col], upper[col], mu[col], sigma[col] =zero_score['lower'], zero_score['upper'], zero_score['mu'], zero_score['sigma']"
   ]
  },
  {
   "cell_type": "code",
   "execution_count": 15,
   "metadata": {},
   "outputs": [],
   "source": [
    "train_data.to_csv(folderOfData+'anti_fraud_data_cleaned.csv',index=False)"
   ]
  },
  {
   "cell_type": "markdown",
   "metadata": {},
   "source": [
    "######### 集成方式1：Bagging ###########\n",
    "<div>待选模型：LR， GBDT， DNN\n",
    "<div>数据集准备：从原数据集中进行有放回地抽样形成某一个训练集，袋外数据用来进行参数选择"
   ]
  },
  {
   "cell_type": "code",
   "execution_count": 16,
   "metadata": {},
   "outputs": [
    {
     "data": {
      "text/plain": [
       "0.3685378907675465"
      ]
     },
     "execution_count": 16,
     "metadata": {},
     "output_type": "execute_result"
    }
   ],
   "source": [
    "train_data['Idx'] = train_data.index\n",
    "size = train_data.shape[0]\n",
    "train_data2 = train_data.sample(n=size,replace=True)\n",
    "trainDataIndex = set(list(train_data2.Idx))\n",
    "OOB = train_data.loc[~train_data['Idx'].isin(list(trainDataIndex))]\n",
    "OOB.shape[0]/train_data.shape[0]"
   ]
  },
  {
   "cell_type": "code",
   "execution_count": 17,
   "metadata": {},
   "outputs": [],
   "source": [
    "all_features = [feature for feature in list(train_data2.columns)]\n",
    "all_features.remove('Idx')\n",
    "all_features.remove('flag')"
   ]
  },
  {
   "cell_type": "markdown",
   "metadata": {},
   "source": [
    " ### Logistic Regression"
   ]
  },
  {
   "cell_type": "code",
   "execution_count": 19,
   "metadata": {
    "scrolled": false
   },
   "outputs": [
    {
     "name": "stderr",
     "output_type": "stream",
     "text": [
      "C:\\Users\\Qian\\Anaconda3\\lib\\site-packages\\sklearn\\linear_model\\logistic.py:432: FutureWarning: Default solver will be changed to 'lbfgs' in 0.22. Specify a solver to silence this warning.\n",
      "  FutureWarning)\n",
      "C:\\Users\\Qian\\Anaconda3\\lib\\site-packages\\sklearn\\linear_model\\logistic.py:432: FutureWarning: Default solver will be changed to 'lbfgs' in 0.22. Specify a solver to silence this warning.\n",
      "  FutureWarning)\n",
      "C:\\Users\\Qian\\Anaconda3\\lib\\site-packages\\sklearn\\linear_model\\logistic.py:432: FutureWarning: Default solver will be changed to 'lbfgs' in 0.22. Specify a solver to silence this warning.\n",
      "  FutureWarning)\n",
      "C:\\Users\\Qian\\Anaconda3\\lib\\site-packages\\sklearn\\linear_model\\logistic.py:432: FutureWarning: Default solver will be changed to 'lbfgs' in 0.22. Specify a solver to silence this warning.\n",
      "  FutureWarning)\n",
      "C:\\Users\\Qian\\Anaconda3\\lib\\site-packages\\sklearn\\linear_model\\logistic.py:432: FutureWarning: Default solver will be changed to 'lbfgs' in 0.22. Specify a solver to silence this warning.\n",
      "  FutureWarning)\n",
      "C:\\Users\\Qian\\Anaconda3\\lib\\site-packages\\sklearn\\linear_model\\logistic.py:432: FutureWarning: Default solver will be changed to 'lbfgs' in 0.22. Specify a solver to silence this warning.\n",
      "  FutureWarning)\n",
      "C:\\Users\\Qian\\Anaconda3\\lib\\site-packages\\sklearn\\linear_model\\logistic.py:432: FutureWarning: Default solver will be changed to 'lbfgs' in 0.22. Specify a solver to silence this warning.\n",
      "  FutureWarning)\n",
      "C:\\Users\\Qian\\Anaconda3\\lib\\site-packages\\sklearn\\linear_model\\logistic.py:432: FutureWarning: Default solver will be changed to 'lbfgs' in 0.22. Specify a solver to silence this warning.\n",
      "  FutureWarning)\n",
      "C:\\Users\\Qian\\Anaconda3\\lib\\site-packages\\sklearn\\linear_model\\logistic.py:432: FutureWarning: Default solver will be changed to 'lbfgs' in 0.22. Specify a solver to silence this warning.\n",
      "  FutureWarning)\n",
      "C:\\Users\\Qian\\Anaconda3\\lib\\site-packages\\sklearn\\linear_model\\logistic.py:432: FutureWarning: Default solver will be changed to 'lbfgs' in 0.22. Specify a solver to silence this warning.\n",
      "  FutureWarning)\n"
     ]
    },
    {
     "name": "stdout",
     "output_type": "stream",
     "text": [
      "0.9111645994849661\n"
     ]
    },
    {
     "name": "stderr",
     "output_type": "stream",
     "text": [
      "C:\\Users\\Qian\\Anaconda3\\lib\\site-packages\\sklearn\\linear_model\\logistic.py:432: FutureWarning: Default solver will be changed to 'lbfgs' in 0.22. Specify a solver to silence this warning.\n",
      "  FutureWarning)\n"
     ]
    }
   ],
   "source": [
    "C_list = np.arange(0.01,1,0.1)\n",
    "auc = []\n",
    "for c in C_list:\n",
    "    LR = LogisticRegression(C=c).fit(train_data2[all_features], train_data2['flag'])\n",
    "    pred = LR.predict_proba(OOB[all_features])[:,1]\n",
    "    test_auc = roc_auc_score(OOB['flag'], pred)\n",
    "    auc.append(test_auc)\n",
    "\n",
    "position = auc.index(max(auc))\n",
    "C_best = C_list[position]\n",
    "print(max(auc))\n",
    "LR = LogisticRegression(C=C_best).fit(train_data2[all_features], train_data2['flag'])\n",
    "lr_pred = LR.predict_proba(train_data[all_features])[:,1]\n",
    "lr_auc = roc_auc_score(train_data['flag'], lr_pred)    #0.917\n"
   ]
  },
  {
   "cell_type": "code",
   "execution_count": 20,
   "metadata": {},
   "outputs": [],
   "source": [
    "#GBDT\n",
    "train_data2 = train_data.sample(n=size,replace=True)\n",
    "trainDataIndex = set(list(train_data2.Idx))\n",
    "OOB = train_data.loc[~train_data['Idx'].isin(list(trainDataIndex))]\n",
    "\n",
    "\n",
    "best_max_depth = 8\n",
    "best_min_samples_split, best_min_samples_leaf  = 70,5\n",
    "best_max_features = 10\n",
    "best_subsample = 0.7\n",
    "best_n_estimators = 40\n",
    "\n",
    "\n",
    "gbm_best = GradientBoostingClassifier(learning_rate=0.1, random_state=10,\n",
    "                                      n_estimators=best_n_estimators,\n",
    "                                      max_depth=best_max_depth,\n",
    "                                      min_samples_leaf =best_min_samples_leaf,\n",
    "                                      max_features=best_max_features,\n",
    "                                      subsample =best_subsample)\n",
    "gbm_best.fit(train_data2[all_features],train_data2['flag'])\n",
    "\n",
    "gbdt_pred = gbm_best.predict_proba(train_data[all_features])[:,1]\n",
    "gbdt_auc = roc_auc_score(train_data['flag'], gbdt_pred)   #0.995\n"
   ]
  },
  {
   "cell_type": "code",
   "execution_count": 21,
   "metadata": {},
   "outputs": [
    {
     "data": {
      "text/plain": [
       "0.9717736769522978"
      ]
     },
     "execution_count": 21,
     "metadata": {},
     "output_type": "execute_result"
    }
   ],
   "source": [
    "gbdt_auc"
   ]
  },
  {
   "cell_type": "code",
   "execution_count": 22,
   "metadata": {},
   "outputs": [],
   "source": [
    "#ANN\n",
    "train_data2 = train_data.sample(n=size, replace=True)\n",
    "trainDataIndex = set(list(train_data2.Idx))\n",
    "OOB = train_data.loc[~train_data['Idx'].isin(list(trainDataIndex))]\n",
    "ann_clf = MLPClassifier(hidden_layer_sizes=(60,40,20))\n",
    "ann_clf.fit(train_data2[all_features], train_data2['flag'])\n",
    "ann_pred = ann_clf.predict_proba(train_data[all_features])[:,1]\n",
    "ann_auc = roc_auc_score(train_data['flag'], ann_pred)    #0.958"
   ]
  },
  {
   "cell_type": "code",
   "execution_count": 23,
   "metadata": {},
   "outputs": [
    {
     "data": {
      "text/plain": [
       "0.7667285666731803"
      ]
     },
     "execution_count": 23,
     "metadata": {},
     "output_type": "execute_result"
    }
   ],
   "source": [
    "ann_auc"
   ]
  },
  {
   "cell_type": "code",
   "execution_count": 24,
   "metadata": {},
   "outputs": [
    {
     "data": {
      "text/plain": [
       "0.9630558063125219"
      ]
     },
     "execution_count": 24,
     "metadata": {},
     "output_type": "execute_result"
    }
   ],
   "source": [
    "###### 模型的融合 ########\n",
    "bagging_pred = pd.DataFrame({'LR':lr_pred, 'GBDT':gbdt_pred, 'ANN':ann_pred})\n",
    "bagging_pred['avg_prob'] = bagging_pred.apply(np.mean, axis=1)\n",
    "avg_auc = roc_auc_score(train_data['flag'], bagging_pred['avg_prob']) #0.995\n",
    "avg_auc"
   ]
  },
  {
   "cell_type": "markdown",
   "metadata": {},
   "source": [
    "######### 集成方式2：Boosting ###########\n",
    "#Adaboost 模型"
   ]
  },
  {
   "cell_type": "code",
   "execution_count": 25,
   "metadata": {},
   "outputs": [],
   "source": [
    "bad = train_data[train_data.flag == 1]\n",
    "good0 = train_data[train_data.flag == 0]\n",
    "good = good0.iloc[:bad.shape[0]*10]\n",
    "train_data_ada = pd.concat([bad, good])\n",
    "param_test = {'n_estimators':range(5,101,5),'learning_rate':np.arange(0.1,1.1,0.1)}\n",
    "gsearch = GridSearchCV(n_jobs=-1,estimator = AdaBoostClassifier(),\n",
    "                        param_grid = param_test,iid=False,cv=5)\n",
    "gsearch.fit(train_data_ada[all_features], train_data_ada['flag'])\n",
    "best_n_estimators, best_learning_rate= gsearch.best_params_['n_estimators'],gsearch.best_params_['learning_rate']  #60,1\n",
    "\n",
    "ada_clf = AdaBoostClassifier(n_estimators=best_n_estimators,learning_rate=best_learning_rate)\n",
    "ada_clf.fit(train_data_ada[all_features], train_data_ada['flag'])\n",
    "ada_pred = ada_clf.predict_proba(train_data[all_features])[:,1]\n",
    "ada_auc = roc_auc_score(train_data['flag'], ada_pred)   #0.948\n"
   ]
  },
  {
   "cell_type": "code",
   "execution_count": 26,
   "metadata": {},
   "outputs": [
    {
     "data": {
      "text/plain": [
       "0.9579938723389292"
      ]
     },
     "execution_count": 26,
     "metadata": {},
     "output_type": "execute_result"
    }
   ],
   "source": [
    "ada_auc"
   ]
  },
  {
   "cell_type": "code",
   "execution_count": 27,
   "metadata": {},
   "outputs": [],
   "source": [
    "######### 集成方式3：Stacking ###########\n",
    "# Tier1 采用gbdt和ANN， Tier2 采用LR\n",
    "idx = list(train_data.Idx)\n",
    "K = 5\n",
    "num_of_models = 2\n",
    "gbdt_result = pd.DataFrame()\n",
    "ann_result = pd.DataFrame()\n"
   ]
  },
  {
   "cell_type": "code",
   "execution_count": 28,
   "metadata": {},
   "outputs": [
    {
     "name": "stdout",
     "output_type": "stream",
     "text": [
      "AUC is 0.9564083965746826\n",
      "AUC is 0.9170074601130415\n",
      "AUC is 0.9344197645856964\n",
      "AUC is 0.9214912859783471\n",
      "AUC is 0.9368493452551869\n"
     ]
    }
   ],
   "source": [
    "#采用gbdt做Tier1中的第一个模型\n",
    "#为了避免Tier1的子模型产生一定的相关性，构建交叉验证时将样本随机排列，使得Tier1的子模型的验证集拥有多样性\n",
    "idx_shuffle = idx.copy()\n",
    "shuffle(idx)\n",
    "#使用K折交叉法，将数据集等分成K等分。又由于数据集的样本量未必是K的整倍数，因此第1~K-1份子集的大小是一致的，\n",
    "# 第K份子集的大小不低于第1~K-1份子集的大小\n",
    "sub_n = int(np.floor(len(idx_shuffle)/K))\n",
    "interval_starts = [i*sub_n for i in range(K)]\n",
    "interval_ends = [(i+1)*sub_n-1 for i in range(K-1)] + [len(idx_shuffle)-1]\n",
    "for j in range(K):\n",
    "    #拿出第j份子集作为验证集，其余的子集合并称为小训练集\n",
    "    start_pot, end_pot = interval_starts[j],interval_ends[j]\n",
    "    validation_idx = [idx_shuffle[m] for m in range(start_pot,end_pot+1)]\n",
    "    validation_set = train_data.loc[train_data['Idx'].isin(validation_idx)]\n",
    "    train_set = train_data.loc[~train_data['Idx'].isin(validation_idx)]\n",
    "    #训练gbdt\n",
    "    best_gbm = GradientBoostingClassifier(learning_rate=0.1, random_state=10,\n",
    "                                      n_estimators=best_n_estimators,\n",
    "                                      max_depth=best_max_depth,\n",
    "                                      min_samples_leaf =best_min_samples_leaf,\n",
    "                                      max_features=best_max_features,\n",
    "                                      subsample =best_subsample)\n",
    "    best_gbm.fit(train_set[all_features], train_set['flag'])\n",
    "    gbdt_pred = best_gbm.predict_proba(validation_set[all_features])[:, 1]\n",
    "    auc = roc_auc_score(validation_set['flag'], gbdt_pred)\n",
    "    print(\"AUC is {}\".format(auc))\n",
    "    result_validation = pd.DataFrame({'Idx':validation_idx, 'gbdt_pred':gbdt_pred})\n",
    "    gbdt_result = pd.concat([gbdt_result, result_validation])"
   ]
  },
  {
   "cell_type": "code",
   "execution_count": 42,
   "metadata": {},
   "outputs": [
    {
     "name": "stdout",
     "output_type": "stream",
     "text": [
      "AUC is 0.7299315852660605\n",
      "AUC is 0.8583016194331985\n",
      "AUC is 0.7848597651643338\n",
      "AUC is 0.6804797612598484\n",
      "AUC is 0.5089971472459952\n"
     ]
    }
   ],
   "source": [
    "#采用ANN做Tier1中的第二个模型。对数据集的预处理与GBDT时一样的。\n",
    "shuffle(idx_shuffle)\n",
    "sub_n = int(np.floor(len(idx_shuffle)/K))\n",
    "interval_starts = [i*sub_n for i in range(K)]\n",
    "interval_ends = [(i+1)*sub_n-1 for i in range(K-1)] + [len(idx_shuffle)-1]\n",
    "for j in range(K):\n",
    "    start_pot, end_pot = interval_starts[j],interval_ends[j]\n",
    "    validation_idx = [idx_shuffle[m] for m in range(start_pot,end_pot+1)]\n",
    "    validation_set = train_data.loc[train_data['Idx'].isin(validation_idx)]\n",
    "    train_set = train_data.loc[~train_data['Idx'].isin(validation_idx)]\n",
    "    #训练ann\n",
    "    ann_clf = MLPClassifier(hidden_layer_sizes=(60, 40, 20))\n",
    "    ann_clf.fit(train_set[all_features], train_set['flag'])\n",
    "    ann_pred = ann_clf.predict_proba(validation_set[all_features])[:, 1]\n",
    "    auc = roc_auc_score(validation_set['flag'], ann_pred)\n",
    "    print(\"AUC is {}\".format(auc))\n",
    "    result_validation = pd.DataFrame({'Idx':validation_idx, 'ann_pred':ann_pred})\n",
    "    ann_result = pd.concat([ann_result, result_validation])\n"
   ]
  },
  {
   "cell_type": "code",
   "execution_count": 44,
   "metadata": {},
   "outputs": [
    {
     "name": "stderr",
     "output_type": "stream",
     "text": [
      "C:\\Users\\Qian\\Anaconda3\\lib\\site-packages\\sklearn\\linear_model\\logistic.py:432: FutureWarning: Default solver will be changed to 'lbfgs' in 0.22. Specify a solver to silence this warning.\n",
      "  FutureWarning)\n"
     ]
    },
    {
     "data": {
      "text/plain": [
       "0.9275864232385972"
      ]
     },
     "execution_count": 44,
     "metadata": {},
     "output_type": "execute_result"
    }
   ],
   "source": [
    "tier1_pred = pd.merge(left=gbdt_result,right=ann_result, on='Idx', how='inner')\n",
    "tier1_target = train_data[['Idx','flag']]\n",
    "tier1_train = pd.merge(left=tier1_pred,right=tier1_target, on='Idx', how='inner')\n",
    "\n",
    "LR2 = LogisticRegression().fit(tier1_train[['ann_pred','gbdt_pred']], tier1_train['flag'])\n",
    "tier2_pred = LR2.predict_proba(tier1_train[['ann_pred','gbdt_pred']])[:,1]\n",
    "roc_auc_score(tier1_train['flag'], tier2_pred)    #0.925"
   ]
  },
  {
   "cell_type": "markdown",
   "metadata": {},
   "source": [
    "## 测试集上做测试"
   ]
  },
  {
   "cell_type": "code",
   "execution_count": 30,
   "metadata": {},
   "outputs": [
    {
     "name": "stdout",
     "output_type": "stream",
     "text": [
      "overall fraud rate is 1.0643%\n"
     ]
    }
   ],
   "source": [
    "# loading data\n",
    "testing_data_clean = 'D:\\\\Codes\\\\Python\\\\FraudDetectProject\\\\data\\\\testing_data_clean.csv'\n",
    "test_data = pd.read_csv(testing_data_clean)\n",
    "print('overall fraud rate is {0:2.4f}%'.format(test_data['flag'].mean()*100))"
   ]
  },
  {
   "cell_type": "markdown",
   "metadata": {},
   "source": [
    "### bagging"
   ]
  },
  {
   "cell_type": "code",
   "execution_count": 32,
   "metadata": {},
   "outputs": [
    {
     "name": "stderr",
     "output_type": "stream",
     "text": [
      "C:\\Users\\Qian\\Anaconda3\\lib\\site-packages\\sklearn\\linear_model\\base.py:297: RuntimeWarning: overflow encountered in exp\n",
      "  np.exp(prob, prob)\n"
     ]
    },
    {
     "data": {
      "text/plain": [
       "0.9094750430292599"
      ]
     },
     "execution_count": 32,
     "metadata": {},
     "output_type": "execute_result"
    }
   ],
   "source": [
    "# LR model\n",
    "lr_pred = LR.predict_proba(test_data[all_features])[:,1]\n",
    "lr_auc = roc_auc_score(test_data['flag'], lr_pred)   \n",
    "lr_auc"
   ]
  },
  {
   "cell_type": "code",
   "execution_count": 34,
   "metadata": {},
   "outputs": [
    {
     "data": {
      "text/plain": [
       "0.9296600688468158"
      ]
     },
     "execution_count": 34,
     "metadata": {},
     "output_type": "execute_result"
    }
   ],
   "source": [
    "gbdt_pred = gbm_best.predict_proba(test_data[all_features])[:,1]\n",
    "gbdt_auc = roc_auc_score(test_data['flag'], gbdt_pred)   \n",
    "gbdt_auc"
   ]
  },
  {
   "cell_type": "code",
   "execution_count": 35,
   "metadata": {},
   "outputs": [
    {
     "data": {
      "text/plain": [
       "0.7439376553834386"
      ]
     },
     "execution_count": 35,
     "metadata": {},
     "output_type": "execute_result"
    }
   ],
   "source": [
    "ann_pred = ann_clf.predict_proba(test_data[all_features])[:,1]\n",
    "ann_auc = roc_auc_score(test_data['flag'], ann_pred)\n",
    "ann_auc"
   ]
  },
  {
   "cell_type": "code",
   "execution_count": 39,
   "metadata": {},
   "outputs": [
    {
     "data": {
      "text/plain": [
       "0.9138267355134826"
      ]
     },
     "execution_count": 39,
     "metadata": {},
     "output_type": "execute_result"
    }
   ],
   "source": [
    "###### bagging模型的融合 ########\n",
    "bagging_pred = pd.DataFrame({'LR':lr_pred, 'GBDT':gbdt_pred, 'ANN':ann_pred})\n",
    "bagging_pred['avg_prob'] = bagging_pred.mean(axis=1)\n",
    "avg_auc = roc_auc_score(test_data['flag'], bagging_pred['avg_prob']) #0.995\n",
    "avg_auc"
   ]
  },
  {
   "cell_type": "markdown",
   "metadata": {},
   "source": [
    "### Boosting \n",
    "#Adaboost 模型"
   ]
  },
  {
   "cell_type": "code",
   "execution_count": 40,
   "metadata": {},
   "outputs": [
    {
     "data": {
      "text/plain": [
       "0.9287064926372155"
      ]
     },
     "execution_count": 40,
     "metadata": {},
     "output_type": "execute_result"
    }
   ],
   "source": [
    "ada_pred = ada_clf.predict_proba(test_data[all_features])[:,1]\n",
    "ada_auc = roc_auc_score(test_data['flag'], ada_pred)   \n",
    "ada_auc"
   ]
  },
  {
   "cell_type": "markdown",
   "metadata": {},
   "source": [
    "###集成方式3：Stacking \n",
    "#### Tier1 采用gbdt和ANN， Tier2 采用LR"
   ]
  },
  {
   "cell_type": "code",
   "execution_count": 50,
   "metadata": {},
   "outputs": [],
   "source": [
    "test_data['Idx'] = test_data.index\n",
    "idx = list(test_data.Idx)\n",
    "K = 5\n",
    "num_of_models = 2\n",
    "gbdt_result = pd.DataFrame()\n",
    "ann_result = pd.DataFrame()"
   ]
  },
  {
   "cell_type": "code",
   "execution_count": 51,
   "metadata": {},
   "outputs": [],
   "source": [
    "idx_shuffle = idx.copy()\n",
    "shuffle(idx)"
   ]
  },
  {
   "cell_type": "code",
   "execution_count": 53,
   "metadata": {},
   "outputs": [
    {
     "name": "stdout",
     "output_type": "stream",
     "text": [
      "AUC is 0.9679392757142666\n",
      "AUC is 0.989688554790371\n",
      "AUC is 0.9173840267814444\n",
      "AUC is 0.975659229208925\n",
      "AUC is 0.9624880611270297\n"
     ]
    }
   ],
   "source": [
    "#gbdt做Tier1中的第一个模型\n",
    "sub_n = int(np.floor(len(idx_shuffle)/K))\n",
    "interval_starts = [i*sub_n for i in range(K)]\n",
    "interval_ends = [(i+1)*sub_n-1 for i in range(K-1)] + [len(idx_shuffle)-1]\n",
    "for j in range(K):\n",
    "    start_pot, end_pot = interval_starts[j],interval_ends[j]\n",
    "    validation_idx = [idx_shuffle[m] for m in range(start_pot,end_pot+1)]\n",
    "    validation_set = test_data.loc[test_data['Idx'].isin(validation_idx)]\n",
    "    gbdt_pred = best_gbm.predict_proba(validation_set[all_features])[:, 1]\n",
    "    auc = roc_auc_score(validation_set['flag'], gbdt_pred)\n",
    "    print(\"AUC is {}\".format(auc))\n",
    "    result_validation = pd.DataFrame({'Idx':validation_idx, 'gbdt_pred':gbdt_pred})\n",
    "    gbdt_result = pd.concat([gbdt_result, result_validation])"
   ]
  },
  {
   "cell_type": "code",
   "execution_count": 57,
   "metadata": {},
   "outputs": [
    {
     "name": "stdout",
     "output_type": "stream",
     "text": [
      "AUC is 0.46476252652195205\n",
      "AUC is 0.40965006568732826\n",
      "AUC is 0.6571519566861737\n",
      "AUC is 0.42445482866043616\n",
      "AUC is 0.5361558338302523\n"
     ]
    }
   ],
   "source": [
    "#ANN做Tier1中的第二个模型\n",
    "shuffle(idx_shuffle)\n",
    "sub_n = int(np.floor(len(idx_shuffle)/K))\n",
    "interval_starts = [i*sub_n for i in range(K)]\n",
    "interval_ends = [(i+1)*sub_n-1 for i in range(K-1)] + [len(idx_shuffle)-1]\n",
    "for j in range(K):\n",
    "    start_pot, end_pot = interval_starts[j],interval_ends[j]\n",
    "    validation_idx = [idx_shuffle[m] for m in range(start_pot,end_pot+1)]\n",
    "    validation_set = test_data.loc[test_data['Idx'].isin(validation_idx)]\n",
    "    test_set = test_data.loc[~test_data['Idx'].isin(validation_idx)]\n",
    "    #训练ann\n",
    "    ann_clf = MLPClassifier(hidden_layer_sizes=(60, 40, 20))\n",
    "    ann_clf.fit(test_set[all_features], test_set['flag'])\n",
    "    ann_pred = ann_clf.predict_proba(validation_set[all_features])[:, 1]\n",
    "    auc = roc_auc_score(validation_set['flag'], ann_pred)\n",
    "    print(\"AUC is {}\".format(auc))\n",
    "    result_validation = pd.DataFrame({'Idx':validation_idx, 'ann_pred':ann_pred})\n",
    "    ann_result = pd.concat([ann_result, result_validation])"
   ]
  },
  {
   "cell_type": "code",
   "execution_count": 58,
   "metadata": {},
   "outputs": [
    {
     "data": {
      "text/plain": [
       "0.9600102792120864"
      ]
     },
     "execution_count": 58,
     "metadata": {},
     "output_type": "execute_result"
    }
   ],
   "source": [
    "tier1_pred = pd.merge(left=gbdt_result,right=ann_result, on='Idx', how='inner')\n",
    "tier1_target = test_data[['Idx','flag']]\n",
    "tier1_test = pd.merge(left=tier1_pred,right=tier1_target, on='Idx', how='inner')\n",
    "\n",
    "# LR = LogisticRegression().fit(tier1_test[['ann_pred','gbdt_pred']], tier1_train['flag'])\n",
    "tier2_pred = LR2.predict_proba(tier1_test[['ann_pred','gbdt_pred']])[:,1]\n",
    "roc_auc_score(tier1_test['flag'], tier2_pred)    #0.925"
   ]
  }
 ],
 "metadata": {
  "kernelspec": {
   "display_name": "Python 3",
   "language": "python",
   "name": "python3"
  },
  "language_info": {
   "codemirror_mode": {
    "name": "ipython",
    "version": 3
   },
   "file_extension": ".py",
   "mimetype": "text/x-python",
   "name": "python",
   "nbconvert_exporter": "python",
   "pygments_lexer": "ipython3",
   "version": "3.6.3"
  }
 },
 "nbformat": 4,
 "nbformat_minor": 2
}
