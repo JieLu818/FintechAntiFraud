{
 "cells": [
  {
   "cell_type": "markdown",
   "metadata": {},
   "source": [
    "# Logistic Regression with Penalty"
   ]
  },
  {
   "cell_type": "code",
   "execution_count": 2,
   "metadata": {},
   "outputs": [],
   "source": [
    "import sys\n",
    "import os\n",
    "module_path = os.path.abspath(os.path.join('..'))\n",
    "if module_path not in sys.path:\n",
    "    sys.path.append(module_path)\n",
    "from data import AntiFraudData\n",
    "from gradientDescent import *\n",
    "from confusionMetrics import *\n",
    "import matplotlib.pyplot as plt\n",
    "from featureProcess import *\n",
    "from sklearn import model_selection\n",
    "from sklearn.metrics import roc_curve, auc\n",
    "from sklearn.model_selection import cross_val_score\n",
    "from scipy import interp"
   ]
  },
  {
   "cell_type": "code",
   "execution_count": null,
   "metadata": {},
   "outputs": [],
   "source": [
    "\n",
    "# loading data\n",
    "testing_data_clean = 'D:\\\\Codes\\\\Python\\\\FraudDetectProject\\\\data\\\\testing_data_clean.csv'\n",
    "test_data = pd.read_csv(testing_data_clean)\n",
    "print('overall fraud rate is {0:2.4f}%'.format(test_data['flag'].mean()*100))\n",
    "# loading data\n",
    "testing_data_clean = 'D:\\\\Codes\\\\Python\\\\FraudDetectProject\\\\data\\\\testing_data_clean.csv'\n",
    "test_data = pd.read_csv(testing_data_clean)\n",
    "print('overall fraud rate is {0:2.4f}%'.format(test_data['flag'].mean()*100))"
   ]
  }
 ],
 "metadata": {
  "kernelspec": {
   "display_name": "Python 3",
   "language": "python",
   "name": "python3"
  },
  "language_info": {
   "codemirror_mode": {
    "name": "ipython",
    "version": 3
   },
   "file_extension": ".py",
   "mimetype": "text/x-python",
   "name": "python",
   "nbconvert_exporter": "python",
   "pygments_lexer": "ipython3",
   "version": "3.6.7"
  }
 },
 "nbformat": 4,
 "nbformat_minor": 2
}
